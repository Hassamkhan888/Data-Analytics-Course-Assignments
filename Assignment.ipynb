{
 "cells": [
  {
   "cell_type": "code",
   "execution_count": 351,
   "id": "dd681735-1e5c-4db2-8cc5-ed6570696fa5",
   "metadata": {},
   "outputs": [],
   "source": [
    "import csv"
   ]
  },
  {
   "cell_type": "code",
   "execution_count": 352,
   "id": "7de7e67a-7733-4e8c-8985-e0d9e19c2c28",
   "metadata": {},
   "outputs": [],
   "source": [
    "f = open(\"student data.csv\")\n",
    "read = csv.reader(f)\n",
    "student_data = list(read)"
   ]
  },
  {
   "cell_type": "code",
   "execution_count": 353,
   "id": "874d6b7a-2eca-4b93-81eb-2eadaaf020af",
   "metadata": {},
   "outputs": [
    {
     "data": {
      "text/plain": [
       "[['roll no', 'Name', 'Chemistry', 'Physics', 'Math'],\n",
       " ['101', 'Aliza', '50', '23', '87'],\n",
       " ['102', 'Fareed', '45', '24', '88'],\n",
       " ['103', 'Basit', '46', '25', '89'],\n",
       " ['104', 'Abdullah', '47', '26', '90'],\n",
       " ['105', 'Ali', '48', '27', '67'],\n",
       " ['106', 'Mubashir', '49', '28', '68'],\n",
       " ['107', 'Waleed', '50', '29', '69'],\n",
       " ['108', 'Mansoor', '51', '30', '70'],\n",
       " ['109', 'Zain', '52', '31', '71'],\n",
       " ['110', 'Mohsin', '53', '67', '72'],\n",
       " ['111', 'Shahmeer', '54', '68', '73'],\n",
       " ['112', 'Rao', '55', '69', '74'],\n",
       " ['113', 'Aurangzeb', '56', '70', '75'],\n",
       " ['114', 'Zeeshan', '57', '71', '76'],\n",
       " ['115', 'Hamna', '58', '72', '77'],\n",
       " ['116', 'Hamza', '59', '73', '78'],\n",
       " ['117', 'Khalid', '60', '74', '79'],\n",
       " ['118', 'Behroz', '61', '75', '80'],\n",
       " ['119', 'Justin', '62', '76', '81'],\n",
       " ['120', 'Danish', '63', '77', '82'],\n",
       " ['121', 'Kainat', '64', '78', '83'],\n",
       " ['122', 'Sameer', '65', '79', '84'],\n",
       " ['123', 'Raza', '66', '80', '85'],\n",
       " ['124', 'Kumar', '67', '81', '86'],\n",
       " ['125', 'Komal', '68', '82', '87'],\n",
       " ['126', 'Erum', '69', '83', '88'],\n",
       " ['127', 'Faiza', '70', '84', '89'],\n",
       " ['128', 'Saeed', '71', '85', '90'],\n",
       " ['129', 'Waqar', '72', '86', '91'],\n",
       " ['130', 'Wali', '73', '87', '92'],\n",
       " ['131', 'Wajid', '74', '88', '93'],\n",
       " ['132', 'Waseeb', '75', '89', '94'],\n",
       " ['133', 'Shiza', '76', '90', '95'],\n",
       " ['134', 'Shabina', '77', '91', '96'],\n",
       " ['135', 'Shazain', '78', '55', '97'],\n",
       " ['136', 'Lubna', '79', '61', '98'],\n",
       " ['137', 'Laiba', '80', '88', '78'],\n",
       " ['138', 'Khursheed', '81', '56', '45'],\n",
       " ['139', 'Ali', '82', '89', '46'],\n",
       " ['140', 'Aiza', '83', '45', '89'],\n",
       " ['141', 'Aiman', '84', '92', '78'],\n",
       " ['142', 'Yasmeen', '85', '36', '56'],\n",
       " ['143', 'Tasbeel', '86', '78', '78'],\n",
       " ['144', 'Laraib', '87', '56', '54'],\n",
       " ['145', 'Saleem', '88', '78', '78'],\n",
       " ['146', 'Bismil', '89', '89', '46'],\n",
       " ['147', 'Batool', '90', '56', '79'],\n",
       " ['148', 'Iqra', '91', '33', '46'],\n",
       " ['149', 'Zarnish', '92', '78', '45'],\n",
       " ['150', 'Zara', '83', '45', '56']]"
      ]
     },
     "execution_count": 353,
     "metadata": {},
     "output_type": "execute_result"
    }
   ],
   "source": [
    "student_data"
   ]
  },
  {
   "cell_type": "code",
   "execution_count": 354,
   "id": "6f8201c0-8d7a-4a15-bb80-c5cf213203ca",
   "metadata": {},
   "outputs": [
    {
     "name": "stdout",
     "output_type": "stream",
     "text": [
      "['roll no', 'Name', 'Chemistry', 'Physics', 'Math']\n"
     ]
    }
   ],
   "source": [
    "header = student_data[0]\n",
    "print(header)"
   ]
  },
  {
   "cell_type": "code",
   "execution_count": 355,
   "id": "6f900333-5daa-414b-8071-27922d412b8d",
   "metadata": {},
   "outputs": [
    {
     "data": {
      "text/plain": [
       "['101', 'Aliza', '50', '23', '87']"
      ]
     },
     "execution_count": 355,
     "metadata": {},
     "output_type": "execute_result"
    }
   ],
   "source": [
    "student_data[1]"
   ]
  },
  {
   "cell_type": "code",
   "execution_count": 356,
   "id": "3975b6e4-cb9c-4f5f-875c-a9d541f56386",
   "metadata": {},
   "outputs": [
    {
     "name": "stdout",
     "output_type": "stream",
     "text": [
      "['101', 'Aliza', '50', '23', '87']\n"
     ]
    }
   ],
   "source": [
    "student = student_data[1:]\n",
    "print(student[0])"
   ]
  },
  {
   "cell_type": "code",
   "execution_count": 357,
   "id": "2f7e7143-5d76-46b5-be40-1de061040b33",
   "metadata": {},
   "outputs": [
    {
     "data": {
      "text/plain": [
       "'50'"
      ]
     },
     "execution_count": 357,
     "metadata": {},
     "output_type": "execute_result"
    }
   ],
   "source": [
    "student[0][2]"
   ]
  },
  {
   "cell_type": "code",
   "execution_count": 358,
   "id": "88b529c9-6787-448e-b825-fb7366b7deee",
   "metadata": {},
   "outputs": [],
   "source": [
    "chem_marks = []\n",
    "\n",
    "for i in student:\n",
    "    # print(i[2])\n",
    "    chem_marks.append(int(i[2]))"
   ]
  },
  {
   "cell_type": "code",
   "execution_count": 359,
   "id": "850ffe8d-7323-4560-99e8-7b96c46b32d7",
   "metadata": {},
   "outputs": [
    {
     "name": "stdout",
     "output_type": "stream",
     "text": [
      "[50, 45, 46, 47, 48, 49, 50, 51, 52, 53, 54, 55, 56, 57, 58, 59, 60, 61, 62, 63, 64, 65, 66, 67, 68, 69, 70, 71, 72, 73, 74, 75, 76, 77, 78, 79, 80, 81, 82, 83, 84, 85, 86, 87, 88, 89, 90, 91, 92, 83]\n"
     ]
    }
   ],
   "source": [
    "print(chem_marks)"
   ]
  },
  {
   "cell_type": "code",
   "execution_count": 374,
   "id": "e8927e15-87dc-40fc-995f-fdd138bd430e",
   "metadata": {},
   "outputs": [
    {
     "name": "stdout",
     "output_type": "stream",
     "text": [
      "[50, 45, 46, 47, 48, 49, 50, 51, 52, 53, 54, 55, 56, 57, 58, 59, 60, 61, 62, 63, 64, 65, 66, 67, 68, 69, 70, 71, 72, 73, 74, 75, 76, 77, 78, 79, 80, 81, 82, 83, 84, 85, 86, 87, 88, 89, 90, 91, 92, 83]\n"
     ]
    }
   ],
   "source": [
    "chem_marks = [int(i[2]) for i in student]\n",
    "print(chem_marks)"
   ]
  },
  {
   "cell_type": "code",
   "execution_count": 360,
   "id": "fb0207da-0639-4231-9405-af89c8457e7b",
   "metadata": {},
   "outputs": [
    {
     "name": "stdout",
     "output_type": "stream",
     "text": [
      "3421\n",
      "50\n"
     ]
    }
   ],
   "source": [
    "print(sum(chem_marks))\n",
    "print(len(chem_marks))"
   ]
  },
  {
   "cell_type": "code",
   "execution_count": 361,
   "id": "8893f7fa-a165-4476-869c-9feeb758199b",
   "metadata": {},
   "outputs": [
    {
     "name": "stdout",
     "output_type": "stream",
     "text": [
      "68.42\n"
     ]
    }
   ],
   "source": [
    "avg_chem_marks = sum(chem_marks)/len(chem_marks)\n",
    "print(avg_chem_marks)"
   ]
  },
  {
   "cell_type": "code",
   "execution_count": 362,
   "id": "5e98ac17-e400-4477-9802-931a0efb1da2",
   "metadata": {},
   "outputs": [],
   "source": [
    "phy_marks = []\n",
    "\n",
    "for i in student:\n",
    "    # print(i[3])\n",
    "    phy_marks.append(int(i[3]))"
   ]
  },
  {
   "cell_type": "code",
   "execution_count": 363,
   "id": "a4893446-cd73-4259-adeb-94c4517ec536",
   "metadata": {},
   "outputs": [
    {
     "name": "stdout",
     "output_type": "stream",
     "text": [
      "[23, 24, 25, 26, 27, 28, 29, 30, 31, 67, 68, 69, 70, 71, 72, 73, 74, 75, 76, 77, 78, 79, 80, 81, 82, 83, 84, 85, 86, 87, 88, 89, 90, 91, 55, 61, 88, 56, 89, 45, 92, 36, 78, 56, 78, 89, 56, 33, 78, 45]\n"
     ]
    }
   ],
   "source": [
    "print(phy_marks)"
   ]
  },
  {
   "cell_type": "code",
   "execution_count": 364,
   "id": "d36cb6d5-83df-4032-826a-db1287d2fa61",
   "metadata": {},
   "outputs": [
    {
     "name": "stdout",
     "output_type": "stream",
     "text": [
      "65.06\n"
     ]
    }
   ],
   "source": [
    "avg_phy_marks = sum(phy_marks)/len(phy_marks)\n",
    "print(avg_phy_marks)"
   ]
  },
  {
   "cell_type": "code",
   "execution_count": 365,
   "id": "d1cf5a45-8ed5-4efd-9158-a108a081cdf0",
   "metadata": {},
   "outputs": [],
   "source": [
    "math_marks = []\n",
    "\n",
    "for i in student:\n",
    "    # print(i[4])\n",
    "    math_marks.append(int(i[4]))"
   ]
  },
  {
   "cell_type": "code",
   "execution_count": 366,
   "id": "828387d7-bdf0-43bc-801b-27692d98a64b",
   "metadata": {},
   "outputs": [
    {
     "name": "stdout",
     "output_type": "stream",
     "text": [
      "[87, 88, 89, 90, 67, 68, 69, 70, 71, 72, 73, 74, 75, 76, 77, 78, 79, 80, 81, 82, 83, 84, 85, 86, 87, 88, 89, 90, 91, 92, 93, 94, 95, 96, 97, 98, 78, 45, 46, 89, 78, 56, 78, 54, 78, 46, 79, 46, 45, 56]\n"
     ]
    }
   ],
   "source": [
    "print(math_marks)"
   ]
  },
  {
   "cell_type": "code",
   "execution_count": 367,
   "id": "9ef88a95-37b3-4b97-8aa6-c859a22dcb32",
   "metadata": {},
   "outputs": [
    {
     "name": "stdout",
     "output_type": "stream",
     "text": [
      "77.36\n"
     ]
    }
   ],
   "source": [
    "avg_math_marks = sum(math_marks)/len(math_marks)\n",
    "print(avg_math_marks)"
   ]
  },
  {
   "cell_type": "code",
   "execution_count": 368,
   "id": "acb1b6f3-f0fe-4792-9d63-d0bf6137dafd",
   "metadata": {},
   "outputs": [],
   "source": [
    "for i in student:\n",
    "    chem = int(i[2])\n",
    "    phy = int(i[3])\n",
    "    math = int(i[4])\n",
    "    percentage = round((chem+phy+math)/300*100,2)\n",
    "    # print(percentage)\n",
    "    i.append(percentage)"
   ]
  },
  {
   "cell_type": "code",
   "execution_count": 369,
   "id": "4e853e12-0ae2-4894-82ba-89056c78e9f0",
   "metadata": {},
   "outputs": [
    {
     "data": {
      "text/plain": [
       "[['101', 'Aliza', '50', '23', '87', 53.33],\n",
       " ['102', 'Fareed', '45', '24', '88', 52.33],\n",
       " ['103', 'Basit', '46', '25', '89', 53.33],\n",
       " ['104', 'Abdullah', '47', '26', '90', 54.33],\n",
       " ['105', 'Ali', '48', '27', '67', 47.33],\n",
       " ['106', 'Mubashir', '49', '28', '68', 48.33],\n",
       " ['107', 'Waleed', '50', '29', '69', 49.33],\n",
       " ['108', 'Mansoor', '51', '30', '70', 50.33],\n",
       " ['109', 'Zain', '52', '31', '71', 51.33],\n",
       " ['110', 'Mohsin', '53', '67', '72', 64.0],\n",
       " ['111', 'Shahmeer', '54', '68', '73', 65.0],\n",
       " ['112', 'Rao', '55', '69', '74', 66.0],\n",
       " ['113', 'Aurangzeb', '56', '70', '75', 67.0],\n",
       " ['114', 'Zeeshan', '57', '71', '76', 68.0],\n",
       " ['115', 'Hamna', '58', '72', '77', 69.0],\n",
       " ['116', 'Hamza', '59', '73', '78', 70.0],\n",
       " ['117', 'Khalid', '60', '74', '79', 71.0],\n",
       " ['118', 'Behroz', '61', '75', '80', 72.0],\n",
       " ['119', 'Justin', '62', '76', '81', 73.0],\n",
       " ['120', 'Danish', '63', '77', '82', 74.0],\n",
       " ['121', 'Kainat', '64', '78', '83', 75.0],\n",
       " ['122', 'Sameer', '65', '79', '84', 76.0],\n",
       " ['123', 'Raza', '66', '80', '85', 77.0],\n",
       " ['124', 'Kumar', '67', '81', '86', 78.0],\n",
       " ['125', 'Komal', '68', '82', '87', 79.0],\n",
       " ['126', 'Erum', '69', '83', '88', 80.0],\n",
       " ['127', 'Faiza', '70', '84', '89', 81.0],\n",
       " ['128', 'Saeed', '71', '85', '90', 82.0],\n",
       " ['129', 'Waqar', '72', '86', '91', 83.0],\n",
       " ['130', 'Wali', '73', '87', '92', 84.0],\n",
       " ['131', 'Wajid', '74', '88', '93', 85.0],\n",
       " ['132', 'Waseeb', '75', '89', '94', 86.0],\n",
       " ['133', 'Shiza', '76', '90', '95', 87.0],\n",
       " ['134', 'Shabina', '77', '91', '96', 88.0],\n",
       " ['135', 'Shazain', '78', '55', '97', 76.67],\n",
       " ['136', 'Lubna', '79', '61', '98', 79.33],\n",
       " ['137', 'Laiba', '80', '88', '78', 82.0],\n",
       " ['138', 'Khursheed', '81', '56', '45', 60.67],\n",
       " ['139', 'Ali', '82', '89', '46', 72.33],\n",
       " ['140', 'Aiza', '83', '45', '89', 72.33],\n",
       " ['141', 'Aiman', '84', '92', '78', 84.67],\n",
       " ['142', 'Yasmeen', '85', '36', '56', 59.0],\n",
       " ['143', 'Tasbeel', '86', '78', '78', 80.67],\n",
       " ['144', 'Laraib', '87', '56', '54', 65.67],\n",
       " ['145', 'Saleem', '88', '78', '78', 81.33],\n",
       " ['146', 'Bismil', '89', '89', '46', 74.67],\n",
       " ['147', 'Batool', '90', '56', '79', 75.0],\n",
       " ['148', 'Iqra', '91', '33', '46', 56.67],\n",
       " ['149', 'Zarnish', '92', '78', '45', 71.67],\n",
       " ['150', 'Zara', '83', '45', '56', 61.33]]"
      ]
     },
     "execution_count": 369,
     "metadata": {},
     "output_type": "execute_result"
    }
   ],
   "source": [
    "student"
   ]
  },
  {
   "cell_type": "code",
   "execution_count": 370,
   "id": "9085bc46-84d3-4c23-9066-05f49b24ddd2",
   "metadata": {},
   "outputs": [],
   "source": [
    "student_data[0].append(\"percentage\")"
   ]
  },
  {
   "cell_type": "code",
   "execution_count": 371,
   "id": "e7f1949e-7d83-45fe-9a5c-af2c363fcbd5",
   "metadata": {},
   "outputs": [
    {
     "data": {
      "text/plain": [
       "[['roll no', 'Name', 'Chemistry', 'Physics', 'Math', 'percentage'],\n",
       " ['101', 'Aliza', '50', '23', '87', 53.33],\n",
       " ['102', 'Fareed', '45', '24', '88', 52.33],\n",
       " ['103', 'Basit', '46', '25', '89', 53.33],\n",
       " ['104', 'Abdullah', '47', '26', '90', 54.33],\n",
       " ['105', 'Ali', '48', '27', '67', 47.33],\n",
       " ['106', 'Mubashir', '49', '28', '68', 48.33],\n",
       " ['107', 'Waleed', '50', '29', '69', 49.33],\n",
       " ['108', 'Mansoor', '51', '30', '70', 50.33],\n",
       " ['109', 'Zain', '52', '31', '71', 51.33],\n",
       " ['110', 'Mohsin', '53', '67', '72', 64.0],\n",
       " ['111', 'Shahmeer', '54', '68', '73', 65.0],\n",
       " ['112', 'Rao', '55', '69', '74', 66.0],\n",
       " ['113', 'Aurangzeb', '56', '70', '75', 67.0],\n",
       " ['114', 'Zeeshan', '57', '71', '76', 68.0],\n",
       " ['115', 'Hamna', '58', '72', '77', 69.0],\n",
       " ['116', 'Hamza', '59', '73', '78', 70.0],\n",
       " ['117', 'Khalid', '60', '74', '79', 71.0],\n",
       " ['118', 'Behroz', '61', '75', '80', 72.0],\n",
       " ['119', 'Justin', '62', '76', '81', 73.0],\n",
       " ['120', 'Danish', '63', '77', '82', 74.0],\n",
       " ['121', 'Kainat', '64', '78', '83', 75.0],\n",
       " ['122', 'Sameer', '65', '79', '84', 76.0],\n",
       " ['123', 'Raza', '66', '80', '85', 77.0],\n",
       " ['124', 'Kumar', '67', '81', '86', 78.0],\n",
       " ['125', 'Komal', '68', '82', '87', 79.0],\n",
       " ['126', 'Erum', '69', '83', '88', 80.0],\n",
       " ['127', 'Faiza', '70', '84', '89', 81.0],\n",
       " ['128', 'Saeed', '71', '85', '90', 82.0],\n",
       " ['129', 'Waqar', '72', '86', '91', 83.0],\n",
       " ['130', 'Wali', '73', '87', '92', 84.0],\n",
       " ['131', 'Wajid', '74', '88', '93', 85.0],\n",
       " ['132', 'Waseeb', '75', '89', '94', 86.0],\n",
       " ['133', 'Shiza', '76', '90', '95', 87.0],\n",
       " ['134', 'Shabina', '77', '91', '96', 88.0],\n",
       " ['135', 'Shazain', '78', '55', '97', 76.67],\n",
       " ['136', 'Lubna', '79', '61', '98', 79.33],\n",
       " ['137', 'Laiba', '80', '88', '78', 82.0],\n",
       " ['138', 'Khursheed', '81', '56', '45', 60.67],\n",
       " ['139', 'Ali', '82', '89', '46', 72.33],\n",
       " ['140', 'Aiza', '83', '45', '89', 72.33],\n",
       " ['141', 'Aiman', '84', '92', '78', 84.67],\n",
       " ['142', 'Yasmeen', '85', '36', '56', 59.0],\n",
       " ['143', 'Tasbeel', '86', '78', '78', 80.67],\n",
       " ['144', 'Laraib', '87', '56', '54', 65.67],\n",
       " ['145', 'Saleem', '88', '78', '78', 81.33],\n",
       " ['146', 'Bismil', '89', '89', '46', 74.67],\n",
       " ['147', 'Batool', '90', '56', '79', 75.0],\n",
       " ['148', 'Iqra', '91', '33', '46', 56.67],\n",
       " ['149', 'Zarnish', '92', '78', '45', 71.67],\n",
       " ['150', 'Zara', '83', '45', '56', 61.33]]"
      ]
     },
     "execution_count": 371,
     "metadata": {},
     "output_type": "execute_result"
    }
   ],
   "source": [
    "student_data"
   ]
  },
  {
   "cell_type": "code",
   "execution_count": 372,
   "id": "da2d8585-4e25-4c75-aacc-6c4678362a3f",
   "metadata": {},
   "outputs": [],
   "source": [
    "f = open(\"students.csv\",mode = \"w\",newline = \"\")\n",
    "write = csv.writer(f)\n",
    "write.writerows(student_data)"
   ]
  },
  {
   "cell_type": "code",
   "execution_count": 373,
   "id": "3d97bf81-ba9e-4997-b8bb-850032af7147",
   "metadata": {},
   "outputs": [],
   "source": [
    "f.close()"
   ]
  },
  {
   "cell_type": "code",
   "execution_count": null,
   "id": "41fe6471-4811-48d6-a7c9-c6fd6c338973",
   "metadata": {},
   "outputs": [],
   "source": []
  },
  {
   "cell_type": "code",
   "execution_count": null,
   "id": "47529881-5033-4b28-86dc-0241c9a0f89b",
   "metadata": {},
   "outputs": [],
   "source": []
  },
  {
   "cell_type": "code",
   "execution_count": null,
   "id": "5679c044-fdce-49c4-8f67-a7d029ac5156",
   "metadata": {},
   "outputs": [],
   "source": []
  }
 ],
 "metadata": {
  "kernelspec": {
   "display_name": "Python 3 (ipykernel)",
   "language": "python",
   "name": "python3"
  },
  "language_info": {
   "codemirror_mode": {
    "name": "ipython",
    "version": 3
   },
   "file_extension": ".py",
   "mimetype": "text/x-python",
   "name": "python",
   "nbconvert_exporter": "python",
   "pygments_lexer": "ipython3",
   "version": "3.12.3"
  }
 },
 "nbformat": 4,
 "nbformat_minor": 5
}
