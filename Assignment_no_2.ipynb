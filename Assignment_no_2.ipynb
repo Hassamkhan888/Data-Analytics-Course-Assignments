{
 "cells": [
  {
   "cell_type": "markdown",
   "id": "b95b43c0-2fbc-4f1f-864b-f18bedfca21b",
   "metadata": {},
   "source": [
    "### 1. Write a Python program to print the following string in a specific format (see the\n",
    "### output).\n",
    "\n",
    "### Twinkle, twinkle, little star,\n",
    "###          How I wonder what you are!\n",
    "### Up above the world so high,\n",
    "### Like a diamond in the sky.\n",
    "\n",
    "### Twinkle, twinkle, little star,\n",
    "### How I wonder what you are"
   ]
  },
  {
   "cell_type": "code",
   "execution_count": 42,
   "id": "66bf1b9f-ed57-4b5c-a335-12019eca7a3c",
   "metadata": {},
   "outputs": [
    {
     "name": "stdout",
     "output_type": "stream",
     "text": [
      "Twinkle, twinkle, little star,\n",
      " \t How I wonder what you are!\n",
      " \t\t Up above the world so high,\n",
      "\t\t Like a diamond in the sky.\n",
      "Twinkle, twinkle, little star,\n",
      " \t How I wonder what you are\n"
     ]
    }
   ],
   "source": [
    "print(\"Twinkle, twinkle, little star,\\n \\t How I wonder what you are!\")\n",
    "print(\" \\t\\t Up above the world so high,\\n\\t\\t Like a diamond in the sky.\")\n",
    "print(\"Twinkle, twinkle, little star,\\n \\t How I wonder what you are\")"
   ]
  },
  {
   "cell_type": "code",
   "execution_count": 41,
   "id": "b28a71af-7e3a-40c8-ab89-957758e3b908",
   "metadata": {},
   "outputs": [
    {
     "name": "stdout",
     "output_type": "stream",
     "text": [
      "Twinkle, twinkle, little star,\n",
      "\t How I wonder what you are! \n",
      "\t\t Up above the world so high \n",
      "\t\t Like a diamond in the sky.\n",
      "Twinkle, twinkle, little star,\n",
      "\tHow I wonder what you are\n"
     ]
    }
   ],
   "source": [
    "print(\"Twinkle, twinkle, little star,\\n\\t How I wonder what you are! \\n\\t\\t Up above the world so high \\n\\t\\t Like a diamond in the sky.\\nTwinkle, twinkle, little star,\\n\\tHow I wonder what you are\")"
   ]
  },
  {
   "cell_type": "markdown",
   "id": "d5abad3f-d62b-4e8b-a8d0-5dfa65e9f62e",
   "metadata": {},
   "source": [
    "### 2. Write a Python program to get the Python version you are using"
   ]
  },
  {
   "cell_type": "code",
   "execution_count": 51,
   "id": "a190b71f-816f-4778-aa16-125656183458",
   "metadata": {},
   "outputs": [],
   "source": [
    "import sys"
   ]
  },
  {
   "cell_type": "code",
   "execution_count": 52,
   "id": "0c4a5208-86b9-4303-82af-5c1e9515fb35",
   "metadata": {},
   "outputs": [
    {
     "name": "stdout",
     "output_type": "stream",
     "text": [
      "Python Version: 3.12.3 (tags/v3.12.3:f6650f9, Apr  9 2024, 14:05:25) [MSC v.1938 64 bit (AMD64)]\n"
     ]
    }
   ],
   "source": [
    "print(\"Python Version:\",sys.version)"
   ]
  },
  {
   "cell_type": "markdown",
   "id": "43fb8327-d571-4f97-aab9-9ecbebd590eb",
   "metadata": {},
   "source": [
    "### 3. Write a Python program to display the current date and time."
   ]
  },
  {
   "cell_type": "code",
   "execution_count": 141,
   "id": "9d60aec6-98ce-4b8d-91ad-c98a6322b122",
   "metadata": {},
   "outputs": [
    {
     "name": "stdout",
     "output_type": "stream",
     "text": [
      "Today Date And Time:2024-08-03 00:08:21.020958\n"
     ]
    }
   ],
   "source": [
    "import datetime\n",
    "\n",
    "current_date = datetime.datetime.now()\n",
    "print(f\"Today Date And Time:{current_date}\")"
   ]
  },
  {
   "cell_type": "markdown",
   "id": "2b8f875d-b022-465e-a07f-ed8d37e78977",
   "metadata": {},
   "source": [
    "### 4. Write a Python program which accepts the radius of a circle from the user and compute the area."
   ]
  },
  {
   "cell_type": "code",
   "execution_count": 74,
   "id": "60544101-723e-46d6-aa50-96b2deeb1467",
   "metadata": {},
   "outputs": [
    {
     "name": "stdin",
     "output_type": "stream",
     "text": [
      "Enter radius of circle:  5\n"
     ]
    },
    {
     "name": "stdout",
     "output_type": "stream",
     "text": [
      "Area Of circle: 78.54\n"
     ]
    }
   ],
   "source": [
    "import math\n",
    "radius = float(input(\"Enter radius of circle: \"))\n",
    "area = math.pi* radius ** 2\n",
    "print(f\"Area Of circle: {area:.2f}\")"
   ]
  },
  {
   "cell_type": "markdown",
   "id": "ba4fead9-16d9-43bd-8466-d21f6fe48161",
   "metadata": {},
   "source": [
    "### 5. Write a Python program which accepts the user's first and last name and print them in reverse order with a space between them."
   ]
  },
  {
   "cell_type": "code",
   "execution_count": 81,
   "id": "f9c32604-0cfa-4703-911f-39c0e3194c65",
   "metadata": {},
   "outputs": [
    {
     "name": "stdin",
     "output_type": "stream",
     "text": [
      "Enter your first name:  Ali\n",
      "Enter your last name:  Mughal\n"
     ]
    },
    {
     "name": "stdout",
     "output_type": "stream",
     "text": [
      "Reverse Order: Mughal Ali\n"
     ]
    }
   ],
   "source": [
    "first_name = input(\"Enter your first name: \")\n",
    "last_name = input(\"Enter your last name: \")\n",
    "\n",
    "print(f\"Reverse Order: {last_name} {first_name}\")"
   ]
  },
  {
   "cell_type": "markdown",
   "id": "e4589cfd-5690-408f-8a78-943962daf0bd",
   "metadata": {},
   "source": [
    "### 6. Write a python program which takes two inputs from user and print them addition"
   ]
  },
  {
   "cell_type": "code",
   "execution_count": 82,
   "id": "9603f184-dae3-4dcf-b4f8-5bd52042def2",
   "metadata": {},
   "outputs": [
    {
     "name": "stdin",
     "output_type": "stream",
     "text": [
      "Enter your english marks: 80\n",
      "Enter your urdu marks:  70\n"
     ]
    },
    {
     "name": "stdout",
     "output_type": "stream",
     "text": [
      "Total marks: 150\n"
     ]
    }
   ],
   "source": [
    "english_marks = int(input(\"Enter your english marks:\"))\n",
    "urdu_marks = int(input(\"Enter your urdu marks: \"))\n",
    "\n",
    "add_value = english_marks + urdu_marks\n",
    "\n",
    "print(f\"Total marks: {add_value}\")"
   ]
  },
  {
   "cell_type": "markdown",
   "id": "3199b7e3-6e51-4ecf-8a52-1ec8d7fca15f",
   "metadata": {},
   "source": [
    "### 7. Write a program which takes 5 inputs from user for different subject’s marks, total it and generate mark sheet using grades ?"
   ]
  },
  {
   "cell_type": "code",
   "execution_count": 98,
   "id": "e2637833-5c42-4f56-a27e-1a2054605d31",
   "metadata": {},
   "outputs": [
    {
     "name": "stdin",
     "output_type": "stream",
     "text": [
      "Enter your mathematics marks:  89\n",
      "Enter your english marks:  67\n",
      "Enter your physics marks:  89\n",
      "Enter your chemistry marks:  66\n",
      "Enter your urdu marks:  79\n"
     ]
    },
    {
     "name": "stdout",
     "output_type": "stream",
     "text": [
      "Percentage: 78.0%\n"
     ]
    }
   ],
   "source": [
    "mathematics_marks = int(input(\"Enter your mathematics marks: \"))\n",
    "english_marks = int(input(\"Enter your english marks: \"))\n",
    "physics_marks = int(input(\"Enter your physics marks: \"))\n",
    "chemistry_marks = int(input(\"Enter your chemistry marks: \"))\n",
    "urdu_marks = int(input(\"Enter your urdu marks: \"))\n",
    "\n",
    "total_obtained_marks = mathematics_marks + english_marks + physics_marks + chemistry_marks + urdu_marks\n",
    "total_possible_marks = 500\n",
    "percentage = ( total_obtained_marks / total_possible_marks) * 100\n",
    "print(f\"Percentage: {percentage}%\")"
   ]
  },
  {
   "cell_type": "markdown",
   "id": "52289aff-31ec-440d-8bb3-8ca3002321e5",
   "metadata": {},
   "source": [
    "### 8. Write a program which take input from user and identify that the given number is even or odd?"
   ]
  },
  {
   "cell_type": "code",
   "execution_count": 107,
   "id": "447acce5-ecca-4704-b168-0e7dfa0a72c5",
   "metadata": {},
   "outputs": [
    {
     "name": "stdin",
     "output_type": "stream",
     "text": [
      "Enter your number:  10\n"
     ]
    },
    {
     "name": "stdout",
     "output_type": "stream",
     "text": [
      "The given number 10 is an Even number.\n"
     ]
    }
   ],
   "source": [
    "check_number = int(input(\"Enter your number: \"))\n",
    "\n",
    "if check_number % 2 == 0:\n",
    "    print(f\"The given number {check_number} is an Even number.\")\n",
    "else:\n",
    "    print(f\"The given number {check_number} is an Odd number.\")"
   ]
  },
  {
   "cell_type": "markdown",
   "id": "74ee3bf8-96df-4c0f-9b91-f009cb643087",
   "metadata": {},
   "source": [
    "### 9. Write a program which print the length of the list?"
   ]
  },
  {
   "cell_type": "code",
   "execution_count": 115,
   "id": "362dd30b-acd0-49a5-a884-d850878ca566",
   "metadata": {},
   "outputs": [
    {
     "name": "stdout",
     "output_type": "stream",
     "text": [
      "The length of the list is: 17\n"
     ]
    }
   ],
   "source": [
    "numbers_list = [1,2,3,4,5,6,7,8,9,11,22,33,55,66,7788,90,642]\n",
    "\n",
    "length_list = len(numbers_list)\n",
    "\n",
    "print(f\"The length of the list is: {length_list}\")"
   ]
  },
  {
   "cell_type": "markdown",
   "id": "903cf382-bf1f-4235-8e12-b6c6723386cf",
   "metadata": {},
   "source": [
    "### 10.Write a Python program to sum all the numeric items in a list?"
   ]
  },
  {
   "cell_type": "code",
   "execution_count": 120,
   "id": "db613689-5772-46a3-8834-13276f4823d6",
   "metadata": {},
   "outputs": [
    {
     "name": "stdout",
     "output_type": "stream",
     "text": [
      "280\n"
     ]
    }
   ],
   "source": [
    "numerics_items = [1,3,4,5,67,90,44,22,44]\n",
    "\n",
    "add_numeric_items = sum(numerics_items)\n",
    "\n",
    "print(add_numeric_items)"
   ]
  },
  {
   "cell_type": "markdown",
   "id": "e464161d-1772-4f3f-9110-7ce80a2255a4",
   "metadata": {},
   "source": [
    "### 11.Write a Python program to get the largest number from a numeric list."
   ]
  },
  {
   "cell_type": "code",
   "execution_count": 135,
   "id": "d35cb32e-1440-48dc-b120-f775960681d3",
   "metadata": {},
   "outputs": [
    {
     "name": "stdout",
     "output_type": "stream",
     "text": [
      "The largest number in the list is: 150\n"
     ]
    }
   ],
   "source": [
    "numeric_number = [10,20,30,40,50,60,70,80,90,100,110,120,130,140,150]\n",
    "\n",
    "largest_number = max(numeric_number)\n",
    "print(f\"The largest number in the list is: {largest_number}\")"
   ]
  },
  {
   "cell_type": "markdown",
   "id": "c34aa72c-7c39-47a9-9ea6-f4e8e852330c",
   "metadata": {},
   "source": [
    "### 12. Take a list, say for example this one:\n",
    "#### a = [1, 1, 2, 3, 5, 8, 13, 21, 34, 55, 89]\n",
    "\n",
    "#### Write a program that prints out all the elements of the list that are less than 5."
   ]
  },
  {
   "cell_type": "code",
   "execution_count": 140,
   "id": "96252f27-919c-426b-8eb2-b0fa2c647431",
   "metadata": {},
   "outputs": [
    {
     "name": "stdout",
     "output_type": "stream",
     "text": [
      "1\n",
      "1\n",
      "2\n",
      "3\n"
     ]
    }
   ],
   "source": [
    "a = [1, 1, 2, 3, 5, 8, 13, 21, 34, 55, 89]\n",
    "\n",
    "for i in a:\n",
    "    if i < 5:\n",
    "        print(i)"
   ]
  },
  {
   "cell_type": "code",
   "execution_count": null,
   "id": "47c72aa0-4351-460f-827a-b231e8332e3f",
   "metadata": {},
   "outputs": [],
   "source": []
  }
 ],
 "metadata": {
  "kernelspec": {
   "display_name": "Python 3 (ipykernel)",
   "language": "python",
   "name": "python3"
  },
  "language_info": {
   "codemirror_mode": {
    "name": "ipython",
    "version": 3
   },
   "file_extension": ".py",
   "mimetype": "text/x-python",
   "name": "python",
   "nbconvert_exporter": "python",
   "pygments_lexer": "ipython3",
   "version": "3.12.3"
  }
 },
 "nbformat": 4,
 "nbformat_minor": 5
}
